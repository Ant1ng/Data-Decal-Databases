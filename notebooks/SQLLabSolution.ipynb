{
 "cells": [
  {
   "cell_type": "markdown",
   "metadata": {},
   "source": [
    "# Quick Guide to SQLite\n",
    "This lab is meant to teach the basics of SQLite as well as implementing SQLite into your projects. Please review the slides regarding SQL queries before starting this lab, as many of sections expect you to know SQL. We'll be using pysqlite for this intro:\n",
    "* SQL (Structured Query Language) is the language used to communicate with the database.\n",
    "* SQLite is a Relational Database Managment System (DBMS) that, unlike other DBMS, isn't a client-server database engine, meaning we do not need to create a server for it to function.\n",
    "* Pysqlite is a SQL interface compliant for Python.\n",
    "\n",
    "**IF YOU GET A DATABASE LOCKED ERROR, TRY:** \n",
    "- Restarting the Jupyter Notebook kernel.\n",
    "- Deleting the `database.db` in the base directory, then repopulating the file.\n",
    "\n",
    "Run the following function below to repopulate the `database.db` file if necessary."
   ]
  },
  {
   "cell_type": "code",
   "execution_count": 1,
   "metadata": {},
   "outputs": [],
   "source": [
    "import database_util\n",
    "database_util.testDatabase()"
   ]
  },
  {
   "cell_type": "markdown",
   "metadata": {},
   "source": [
    "## Setup"
   ]
  },
  {
   "cell_type": "markdown",
   "metadata": {},
   "source": [
    "Make sure the bottom shows the SQLite version."
   ]
  },
  {
   "cell_type": "code",
   "execution_count": 2,
   "metadata": {
    "_kg_hide-input": true
   },
   "outputs": [
    {
     "name": "stdout",
     "output_type": "stream",
     "text": [
      "SQLite version: 3.22.0\n"
     ]
    }
   ],
   "source": [
    "import sqlite3 as sqlite\n",
    "import pandas as pd\n",
    "\n",
    "con = None\n",
    "data = 'Not found'\n",
    "\n",
    "try:\n",
    "    con = sqlite.connect(\":memory:\")\n",
    "    cur = con.cursor()\n",
    "    cur.execute('SELECT SQLITE_VERSION()')\n",
    "    data = cur.fetchone()[0]\n",
    "\n",
    "except sqlite.Error as e:\n",
    "    print(e)\n",
    "\n",
    "finally:\n",
    "    if con:\n",
    "        con.close()\n",
    "print(\"SQLite version: {}\".format(data))"
   ]
  },
  {
   "cell_type": "markdown",
   "metadata": {},
   "source": [
    "# Connections and Cursors"
   ]
  },
  {
   "cell_type": "markdown",
   "metadata": {},
   "source": [
    "When we want to access our database, we must create a `connection` object to the database file in question and obtain a `cursor` from that connection object.\n",
    "* `Connection`: An object that allows access to the database for reading and writing.\n",
    "* `Cursor`: An object that is mainly used to execute queries on the database.\n",
    "\n",
    "The process of querying a database would often go like this\n",
    "\n",
    "1. A `connection` to the database is opened using `sqlite3.connect(\"<name of database file>\")`. \n",
    "    - If the database file doesn't exist, that file is automatically created.\n",
    "    - The name of the database file can be `\":memory:\"` to access an in-memory database, which is a __distinct__ database for every connection.\n",
    "2. A `cursor` is obtained from the connection `con` using `con.cursor()`.\n",
    "3. The user executes queries with the cursor.\n",
    "4. If the user writes to the database, the connection `con` must `con.commit()` to save changes for other connections to view (more on that later).\n",
    "\n",
    "Connections are garbage collected overtime, but it is a good practice to `close()` the connection when you are finished executing all the queries."
   ]
  },
  {
   "cell_type": "markdown",
   "metadata": {},
   "source": [
    "### PreQ1: Opening a new connection\n",
    "Define a helper function `open_new_connection` that takes in a String `database`, then creates and returns a new `connection` and its `cursor`."
   ]
  },
  {
   "cell_type": "code",
   "execution_count": 3,
   "metadata": {},
   "outputs": [],
   "source": [
    "def open_new_connection(database):\n",
    "    # DO NOT CHANGE ANY PART OF THIS CODE UNLESS STATED OTHERWISE\n",
    "    con = sqlite.connect(database) # EDIT THIS LINE\n",
    "    cur = con.cursor() # EDIT THIS LINE\n",
    "    \n",
    "    return con, cur"
   ]
  },
  {
   "cell_type": "markdown",
   "metadata": {},
   "source": [
    "# Querying The Database"
   ]
  },
  {
   "cell_type": "markdown",
   "metadata": {},
   "source": [
    "When you want to execute a query, use `execute()` on a cursor and input your query in string format. We'll be reviewing `execute()` in the next sections, but before moving on however, please review the following terms:\n",
    "* `Table`: A relation that contains a `Schema` and `Entries`\n",
    "* `Schema`: A set of rules that the table follows (i.e., INT id)\n",
    "* `Entry`: A tuple that follows the `Schema`\n",
    "    \n",
    "For example, if we define a table `People` with schema: `(id INT, FirstName TEXT, LastName TEXT, age INT)`, the table would look something like this:\n"
   ]
  },
  {
   "cell_type": "code",
   "execution_count": 4,
   "metadata": {
    "_kg_hide-input": true,
    "_kg_hide-output": false
   },
   "outputs": [
    {
     "data": {
      "text/html": [
       "<div>\n",
       "<style scoped>\n",
       "    .dataframe tbody tr th:only-of-type {\n",
       "        vertical-align: middle;\n",
       "    }\n",
       "\n",
       "    .dataframe tbody tr th {\n",
       "        vertical-align: top;\n",
       "    }\n",
       "\n",
       "    .dataframe thead th {\n",
       "        text-align: right;\n",
       "    }\n",
       "</style>\n",
       "<table border=\"1\" class=\"dataframe\">\n",
       "  <thead>\n",
       "    <tr style=\"text-align: right;\">\n",
       "      <th></th>\n",
       "      <th>id INT</th>\n",
       "      <th>FirstName TEXT</th>\n",
       "      <th>LastName TEXT</th>\n",
       "      <th>age INT</th>\n",
       "    </tr>\n",
       "  </thead>\n",
       "  <tbody>\n",
       "    <tr>\n",
       "      <th>0</th>\n",
       "      <td>2133</td>\n",
       "      <td>Elton</td>\n",
       "      <td>John</td>\n",
       "      <td>72</td>\n",
       "    </tr>\n",
       "    <tr>\n",
       "      <th>1</th>\n",
       "      <td>76</td>\n",
       "      <td>Ana</td>\n",
       "      <td>Amari</td>\n",
       "      <td>2</td>\n",
       "    </tr>\n",
       "    <tr>\n",
       "      <th>2</th>\n",
       "      <td>69</td>\n",
       "      <td>Elon</td>\n",
       "      <td>Musk</td>\n",
       "      <td>47</td>\n",
       "    </tr>\n",
       "    <tr>\n",
       "      <th>3</th>\n",
       "      <td>123</td>\n",
       "      <td>Count von</td>\n",
       "      <td>Count</td>\n",
       "      <td>46</td>\n",
       "    </tr>\n",
       "  </tbody>\n",
       "</table>\n",
       "</div>"
      ],
      "text/plain": [
       "   id INT FirstName TEXT LastName TEXT  age INT\n",
       "0    2133          Elton          John       72\n",
       "1      76            Ana         Amari        2\n",
       "2      69           Elon          Musk       47\n",
       "3     123      Count von         Count       46"
      ]
     },
     "execution_count": 4,
     "metadata": {},
     "output_type": "execute_result"
    }
   ],
   "source": [
    "con = sqlite.connect(\":memory:\")\n",
    "cur = con.cursor()\n",
    "\n",
    "schema = ['id INT', 'FirstName TEXT', 'LastName TEXT', 'age INT']\n",
    "cur.execute(\"CREATE TABLE ExamplePeople ('id INT', 'FirstName TEXT', 'LastName TEXT', 'age INT')\")\n",
    "queries = [(2133, 'Elton', 'John', 72), \n",
    "           (76, 'Ana', 'Amari', 2), \n",
    "           (69, 'Elon', 'Musk', 47), \n",
    "           (123, 'Count von', 'Count', 46)\n",
    "          ]\n",
    "cur.executemany(\"INSERT INTO ExamplePeople VALUES (?,?,?,?)\", queries)\n",
    "cur.execute(\"SELECT * FROM ExamplePeople\")\n",
    "p = pd.DataFrame(cur.fetchall(), columns=schema)\n",
    "\n",
    "cur.execute(\"DROP TABLE IF EXISTS ExamplePeople\")\n",
    "con.close()\n",
    "p"
   ]
  },
  {
   "cell_type": "markdown",
   "metadata": {},
   "source": [
    "For SQLite, the `schema` can include variables of the following five types (with their associated pythonic types):\n",
    "* `NULL`: None\n",
    "* `INTEGER`: Int or Long\n",
    "* `REAL`: Float\n",
    "* `TEXT`: String\n",
    "* `BLOB`: [Buffer](https://docs.python.org/3/c-api/buffer.html)"
   ]
  },
  {
   "cell_type": "markdown",
   "metadata": {},
   "source": [
    "## Execute\n"
   ]
  },
  {
   "cell_type": "markdown",
   "metadata": {},
   "source": [
    "Pysqlite accesses SQLite databases through `execute()`, which allows Python to execute SQL commands in string format. This makes it extrememly useful to fetch and manipulate data in databases through Python scripts and functions. \n",
    "\n",
    "To run it,`execute()` must be called using an open `cursor` object as well as a SQL string query within it. For example: \n",
    "\n",
    "`cur.execute(\"CREATE TABLE People (id INT, name TEXT))`\n",
    "\n",
    "### Parameter substitution\n",
    "`execute()` supports parameter substitution by using placeholders, which can be in the form of a string dictionary keys or question marks. This has uses with accepting user input as part of the query and as a good way to protect against SQL Injection. An example is shown below:"
   ]
  },
  {
   "cell_type": "code",
   "execution_count": 5,
   "metadata": {},
   "outputs": [
    {
     "name": "stdout",
     "output_type": "stream",
     "text": [
      "(20, 20000)\n"
     ]
    }
   ],
   "source": [
    "con = sqlite.connect(\":memory:\")\n",
    "cur = con.cursor()\n",
    "\n",
    "cur.execute(\"CREATE TABLE Paintings (id INT, price INT)\")\n",
    "\n",
    "painting_id = 20\n",
    "painting_cost = 20000\n",
    "\n",
    "# Example of using parameter substitution using questionmarks\n",
    "cur.execute(\"INSERT INTO Paintings VALUES (?, ?)\", (painting_id, painting_cost))\n",
    "\n",
    "# Example of using a dictionary\n",
    "cur.execute(\"SELECT * FROM Paintings WHERE id=:id AND price=:cost\", {\"id\" : painting_id, \"cost\" : painting_cost})\n",
    "print(cur.fetchone())\n",
    "con.close()"
   ]
  },
  {
   "cell_type": "markdown",
   "metadata": {},
   "source": [
    "### executemany()\n",
    "`executemany()` allows you to execute multiple execute statements using parameter substitution by taking in a list of tuples rather than a single tuple. This is mainly used for running multiple INSERT commands."
   ]
  },
  {
   "cell_type": "code",
   "execution_count": 6,
   "metadata": {},
   "outputs": [
    {
     "name": "stdout",
     "output_type": "stream",
     "text": [
      "[(12, 34), (23, 200), (76, 800), (999, 22)]\n"
     ]
    }
   ],
   "source": [
    "con = sqlite.connect(\":memory:\")\n",
    "cur = con.cursor()\n",
    "\n",
    "cur.execute(\"CREATE TABLE Transactions (id INT, money INT)\")\n",
    "\n",
    "transactions = [\n",
    "    (23, 200),\n",
    "    (76, 800),\n",
    "    (999, 22),\n",
    "    (12, 34)\n",
    "]\n",
    "\n",
    "# Execute many example using parameter substitution\n",
    "cur.executemany(\"INSERT INTO Transactions VALUES (?, ?)\", transactions)\n",
    "cur.execute(\"SELECT * FROM Transactions ORDER BY id ASC\")\n",
    "\n",
    "print(cur.fetchall())\n",
    "con.close()"
   ]
  },
  {
   "cell_type": "markdown",
   "metadata": {},
   "source": [
    "## Fetching Data\n",
    "To access data from the database:\n",
    "* `execute()` a SELECT command using a Cursor object `cur`.\n",
    "* Fetch from the cursor using either `fetchone()` or `fetchall()`\n",
    "    * `fetchone()` only returns a single row (in tuple form)\n",
    "    * `fetchall()` returns all the rows from the command using a list of tuples.\n",
    "\n",
    "The fetch function must happen right after the `SELECT` command on the cursor."
   ]
  },
  {
   "cell_type": "code",
   "execution_count": 7,
   "metadata": {},
   "outputs": [
    {
     "name": "stdout",
     "output_type": "stream",
     "text": [
      "Fetching one       : (1, '2')\n",
      "Fetching one again : (3, '4')\n",
      "Fetching all       : [(1, '2'), (3, '4'), (5, '6')]\n"
     ]
    }
   ],
   "source": [
    "con = sqlite.connect(\":memory:\")\n",
    "cur = con.cursor()\n",
    "\n",
    "queries = [\n",
    "    (1, '2'),\n",
    "    (3, '4'),\n",
    "    (5, '6')\n",
    "]\n",
    "\n",
    "cur.execute(\"CREATE TABLE hello (id, str)\")\n",
    "cur.executemany(\"INSERT INTO hello VALUES (?, ?)\", queries);\n",
    "\n",
    "# Fetching one entry from the table\n",
    "cur.execute(\"SELECT * FROM hello\")\n",
    "print(\"Fetching one       : {}\".format(cur.fetchone()))\n",
    "print(\"Fetching one again : {}\".format(cur.fetchone()))\n",
    "\n",
    "# Fetching all the entries from the table\n",
    "cur.execute(\"SELECT * FROM hello\")\n",
    "print(\"Fetching all       : {}\".format(cur.fetchall()))\n",
    "con.close()"
   ]
  },
  {
   "cell_type": "markdown",
   "metadata": {},
   "source": [
    "## Changing the data\n",
    "Whenever an insert is made to a database, you must commit that change with the connection so that the change is visible to other connections. \n",
    "* It's effectively useless to commit on an in-memory database (i.e. `:memory:`) as each connection connects to a __distinct__ database, so a connection will never see another connection's changes.\n",
    "\n",
    "Below is an demonstration of committing and what other connections can see."
   ]
  },
  {
   "cell_type": "code",
   "execution_count": 8,
   "metadata": {},
   "outputs": [
    {
     "name": "stdout",
     "output_type": "stream",
     "text": [
      "Before commit: []\n",
      "After commit : [(1,)]\n"
     ]
    }
   ],
   "source": [
    "# Creating two different connections as a demonstration\n",
    "con = sqlite.connect('database.db')\n",
    "cur = con.cursor()\n",
    "\n",
    "diff_con = sqlite.connect('database.db')\n",
    "diff_cur = diff_con.cursor()\n",
    "\n",
    "# SQL queries\n",
    "cur.execute(\"DROP TABLE IF EXISTS example\")\n",
    "cur.execute(\"CREATE TABLE example (id INT)\")\n",
    "cur.execute(\"INSERT INTO example VALUES (1)\")\n",
    "\n",
    "# Noncommitted change\n",
    "diff_cur.execute(\"SELECT * FROM example\")\n",
    "print(\"Before commit: {}\".format(diff_cur.fetchall()))\n",
    "\n",
    "# Committed change\n",
    "con.commit()\n",
    "diff_cur.execute(\"SELECT * FROM example\")\n",
    "print(\"After commit : {}\".format(diff_cur.fetchall()))\n",
    "diff_con.close()\n",
    "con.close()"
   ]
  },
  {
   "cell_type": "markdown",
   "metadata": {},
   "source": [
    "### PreQ2: Committing a change\n",
    "The function `hello_world()` below writes to database `database.db` a table that takes in an integer `id` and string `msg` field and creates an entry with `id` being 0 and `string` being 'Hello'. However, the function is not quite complete. Add one additional line to the function so that it executes correctly."
   ]
  },
  {
   "cell_type": "code",
   "execution_count": 9,
   "metadata": {},
   "outputs": [
    {
     "data": {
      "text/plain": [
       "[(0, 'Hello')]"
      ]
     },
     "execution_count": 9,
     "metadata": {},
     "output_type": "execute_result"
    }
   ],
   "source": [
    "def hello_world():\n",
    "    # DO NOT CHANGE ANY PART OF THIS CODE UNLESS STATED OTHERWISE\n",
    "    con, cur = open_new_connection(\"database.db\")\n",
    "    \n",
    "    cur.execute(\"DROP TABLE IF EXISTS q2\")\n",
    "    cur.execute(\"CREATE TABLE q2(id INT, msg TEXT)\")\n",
    "    cur.execute(\"INSERT INTO q2 VALUES(0, 'Hello')\")\n",
    "    \n",
    "    # ADD A LINE HERE:\n",
    "    con.commit()\n",
    "    \n",
    "hello_world()\n",
    "con, cur = open_new_connection(\"database.db\")\n",
    "cur.execute(\"SELECT * FROM q2\")\n",
    "cur.fetchall()"
   ]
  },
  {
   "cell_type": "markdown",
   "metadata": {},
   "source": [
    "## Additional tips and tricks"
   ]
  },
  {
   "cell_type": "markdown",
   "metadata": {},
   "source": [
    "### Helper functions\n",
    "It may be helpful to create helper functions on SQL commands when working on your projects."
   ]
  },
  {
   "cell_type": "code",
   "execution_count": 10,
   "metadata": {},
   "outputs": [
    {
     "name": "stdout",
     "output_type": "stream",
     "text": [
      "[(5,)]\n"
     ]
    }
   ],
   "source": [
    "def create_connection(db_file):\n",
    "    \"\"\"\n",
    "    Creates a connection to the database specified by the db_file\n",
    "    :param db_file: database file\n",
    "    :return: Connection object or None\n",
    "    \"\"\"\n",
    "    con = None\n",
    "    try:\n",
    "        con = sqlite.connect(db_file)\n",
    "    except sqlite.Error as e:\n",
    "        print(\"Error {}:\".format(e.args[0]))\n",
    "    \n",
    "    return con\n",
    "\n",
    "def search_for_ids(con, id):\n",
    "    \"\"\"\n",
    "    Uses a connection object to search for entries with id's equal to id.\n",
    "    Prints all the ids\n",
    "    :param con: connection object, :param id: integer\n",
    "    \"\"\"\n",
    "    cur = con.cursor()\n",
    "    cur.execute(\"CREATE TABLE IF NOT EXISTS test (id INT)\")\n",
    "    \n",
    "    # Avoids SQL injection\n",
    "    cur.execute(\"SELECT * FROM test WHERE id =?\", (id,))\n",
    "    data = cur.fetchall()\n",
    "    \n",
    "    return data\n",
    "\n",
    "con = create_connection(\":memory:\")\n",
    "con.execute(\"CREATE TABLE test (id INT)\")\n",
    "con.execute(\"INSERT INTO test VALUES (5)\")\n",
    "print(search_for_ids(con, 5))\n",
    "con.close()"
   ]
  },
  {
   "cell_type": "markdown",
   "metadata": {},
   "source": [
    "### Pandas and SQLite\n",
    "\n",
    "Pandas also can interact with SQLite databases using the `to_sql` and `read_sql` functions.\n",
    "* `to_sql` is executed on a `Dataframe` and takes in the `name` of a table as well as a SQLite connection `con`. This will create a `name` table within `con`.\n",
    "* `read_sql` is executed on `pandas` and takes in a SQL query on a table `name` as well as a SQLite connection `con`. This will create a `Dataframe` with `name` table's contents."
   ]
  },
  {
   "cell_type": "markdown",
   "metadata": {},
   "source": [
    "### pandas.Dataframe.to_sql()"
   ]
  },
  {
   "cell_type": "code",
   "execution_count": 11,
   "metadata": {},
   "outputs": [
    {
     "name": "stdout",
     "output_type": "stream",
     "text": [
      "[(0, 'Watson', 1), (1, 'Holmes', 2), (2, 'Stamford', 3)]\n"
     ]
    }
   ],
   "source": [
    "data = [['Watson', 1], ['Holmes', 2], ['Stamford', 3]]\n",
    "\n",
    "df = pd.DataFrame(data, columns=['name', 'id'])\n",
    "\n",
    "con = sqlite.connect('database.db')\n",
    "cur = con.cursor()\n",
    "\n",
    "con.execute(\"DROP TABLE IF EXISTS NAMES\")\n",
    "df.to_sql('Names', con)\n",
    "\n",
    "print(cur.execute(\"SELECT * FROM NAMES\").fetchall())\n",
    "con.close()"
   ]
  },
  {
   "cell_type": "markdown",
   "metadata": {},
   "source": [
    "### pandas.read_sql()"
   ]
  },
  {
   "cell_type": "code",
   "execution_count": 12,
   "metadata": {},
   "outputs": [
    {
     "data": {
      "text/html": [
       "<div>\n",
       "<style scoped>\n",
       "    .dataframe tbody tr th:only-of-type {\n",
       "        vertical-align: middle;\n",
       "    }\n",
       "\n",
       "    .dataframe tbody tr th {\n",
       "        vertical-align: top;\n",
       "    }\n",
       "\n",
       "    .dataframe thead th {\n",
       "        text-align: right;\n",
       "    }\n",
       "</style>\n",
       "<table border=\"1\" class=\"dataframe\">\n",
       "  <thead>\n",
       "    <tr style=\"text-align: right;\">\n",
       "      <th></th>\n",
       "      <th>index</th>\n",
       "      <th>name</th>\n",
       "      <th>id</th>\n",
       "    </tr>\n",
       "  </thead>\n",
       "  <tbody>\n",
       "    <tr>\n",
       "      <th>0</th>\n",
       "      <td>0</td>\n",
       "      <td>Watson</td>\n",
       "      <td>1</td>\n",
       "    </tr>\n",
       "    <tr>\n",
       "      <th>1</th>\n",
       "      <td>1</td>\n",
       "      <td>Holmes</td>\n",
       "      <td>2</td>\n",
       "    </tr>\n",
       "  </tbody>\n",
       "</table>\n",
       "</div>"
      ],
      "text/plain": [
       "   index    name  id\n",
       "0      0  Watson   1\n",
       "1      1  Holmes   2"
      ]
     },
     "execution_count": 12,
     "metadata": {},
     "output_type": "execute_result"
    }
   ],
   "source": [
    "con = sqlite.connect('database.db')\n",
    "df = pd.read_sql(\"SELECT * FROM NAMES WHERE id < 3\", con)\n",
    "con.close()\n",
    "df"
   ]
  },
  {
   "cell_type": "markdown",
   "metadata": {},
   "source": [
    "## Questions"
   ]
  },
  {
   "cell_type": "markdown",
   "metadata": {},
   "source": [
    "All of the questions will assume that you have completed all of the top sections __AND__ have an understanding of the SQL language (meaning you have reviewed the [lecture notes](https://docs.google.com/presentation/d/1UYgX5zewhPOvR2I9TlWPbz0tysjGMncwRb8a7EEnxxg/edit?usp=sharing)). All functions must also not cause any errors such as locking the database after execution.\n",
    "\n",
    "**IF YOU GET A DATABASE LOCKED ERROR, TRY:** \n",
    "- Restarting the Jupyter Notebook kernel.\n",
    "- Deleting the `database.db` in the base directory."
   ]
  },
  {
   "cell_type": "markdown",
   "metadata": {},
   "source": [
    "### Q1: Creating a table\n",
    "Define the function `create_table()` below to create a table in the `database.db` file named `ids` which contains the columns `id INTEGER, name TEXT`.\n",
    "\n",
    "- The function should not error after multiple calls.\n",
    "- If the `ids` table exists, the function should not change the database file."
   ]
  },
  {
   "cell_type": "code",
   "execution_count": 13,
   "metadata": {},
   "outputs": [],
   "source": [
    "def create_table():\n",
    "    con, cur = open_new_connection(\"database.db\")\n",
    "    \n",
    "    cur.execute('''CREATE TABLE IF NOT EXISTS ids (\n",
    "                    id INTEGER PRIMARY KEY,\n",
    "                    name TEXT\n",
    "                )''')\n",
    "    con.commit()\n",
    "    con.close()"
   ]
  },
  {
   "cell_type": "markdown",
   "metadata": {},
   "source": [
    "### Q2: Setting up the table\n",
    "Define the function `populate_table()` below to populate a table named `ids` which contains the columns `id INTEGER, name TEXT` with the following values\n",
    "`[(1, 'Oski'), (2, 'Is'), (3, 'The'), (4, 'Best')`\n",
    "\n",
    "- Regardless of database state, after the function is called, the database must contain a table named `ids` with only the stated columns and only the stated values."
   ]
  },
  {
   "cell_type": "code",
   "execution_count": 14,
   "metadata": {},
   "outputs": [
    {
     "data": {
      "text/plain": [
       "[(1, 'Oski'), (2, 'Is'), (3, 'The'), (4, 'Best')]"
      ]
     },
     "execution_count": 14,
     "metadata": {},
     "output_type": "execute_result"
    }
   ],
   "source": [
    "def populate_table():\n",
    "    con, cur = open_new_connection(\"database.db\")\n",
    "    cur.execute(\"DROP TABLE IF EXISTS ids\")\n",
    "    create_table()\n",
    "    values = [\n",
    "        (1, 'Oski'),\n",
    "        (2, 'Is'),\n",
    "        (3, 'The'),\n",
    "        (4, 'Best')\n",
    "    ]\n",
    "    cur.executemany(\"INSERT INTO ids VALUES (?, ?)\", values)\n",
    "    con.commit()\n",
    "    con.close()\n",
    "populate_table()\n",
    "con, cur = open_new_connection(\"database.db\")\n",
    "cur.execute(\"SELECT * FROM ids\")\n",
    "cur.fetchall()"
   ]
  },
  {
   "cell_type": "markdown",
   "metadata": {},
   "source": [
    "You are a manager at Oski Corp and you have two tables, the first table is a list of `Employees` while the second table is a list of `Careers`, as depicted below. Use your knowledge of SQL to answer the questions below!\n",
    "\n",
    "You may assume that these tables already placed in the `database.db`. Assume no fields are NULL. \n",
    "\n",
    "Table Employees:\n",
    "* `EmployeeID`: Integer, Primary Key\n",
    "* `FirstName`: String\n",
    "* `LastName`: String\n",
    "\n",
    "Table Careers:\n",
    "* `EmployeeID`: Integer, Primary Key, references Employees\n",
    "* `CareerID`: Integer, Primary Key\n",
    "* `Field`: String\n",
    "* `Salary`: Float\n",
    "\n",
    "The test tables look something like this:"
   ]
  },
  {
   "cell_type": "markdown",
   "metadata": {},
   "source": [
    "Table `Employees`\n",
    "\n",
    "| EmployeeID | FirstName | LastName |\n",
    "|------------|-----------|----------|\n",
    "| 0          | Harry     | Truman   |\n",
    "| 1          | John      | Doe      |\n",
    "| 2          | Rachel    | Green    |\n",
    "| 3          | Ross      | Geller   |\n",
    "| 4          | John      | Cena     |\n",
    "| 5          | Jonathan  | Joestar  |\n",
    "| 6          | Sherlock  | Holmes   |\n",
    "| 7          | John      | Watson   |\n",
    "\n",
    "Table `Careers`\n",
    "\n",
    "| EmployeeId | CareerId | Field       | Salary |\n",
    "|------------|----------|-------------|--------|\n",
    "| 0          | 7        | Engineering | 17.10  |\n",
    "| 1          | 6        | Sales       | 20.50  |\n",
    "| 2          | 5        | HR          | 50.00  |\n",
    "| 3          | 4        | IT          | 49.99  |\n",
    "| 4          | 3        | Sales       | 100.01 |\n",
    "| 5          | 2        | IT          | 2.00   |\n",
    "| 6          | 1        | HR          | 19.50  |\n",
    "| 7          | 0        | Investments | 39.00  |"
   ]
  },
  {
   "cell_type": "markdown",
   "metadata": {},
   "source": [
    "Run the following function below to repopulate the `database.db` file if necessary."
   ]
  },
  {
   "cell_type": "code",
   "execution_count": 15,
   "metadata": {},
   "outputs": [],
   "source": [
    "import database_util\n",
    "database_util.testDatabase()"
   ]
  },
  {
   "cell_type": "markdown",
   "metadata": {},
   "source": [
    "### Q3: My name is John\n",
    "Define the function `find_john()` below to find all `Employees` with the `FirstName` \"John\". \n",
    "- Return a list of `EmployeeID`, `FirstName`, and `LastName` tuples sorted by `EmployeeID` in ascending order."
   ]
  },
  {
   "cell_type": "code",
   "execution_count": 16,
   "metadata": {},
   "outputs": [
    {
     "data": {
      "text/plain": [
       "[(1, 'John', 'Doe'), (4, 'John', 'Cena'), (7, 'John', 'Watson')]"
      ]
     },
     "execution_count": 16,
     "metadata": {},
     "output_type": "execute_result"
    }
   ],
   "source": [
    "def find_john():\n",
    "    con, cur = open_new_connection(\"database.db\")\n",
    "    \n",
    "    # DO NOT EDIT CODE ABOVE THIS POINT\n",
    "    cur.execute(\"\"\"\n",
    "        SELECT * \n",
    "        FROM Employees \n",
    "        WHERE FirstName='John' \n",
    "        ORDER BY EmployeeID ASC\"\"\")\n",
    "    output = cur.fetchall()\n",
    "    con.close()\n",
    "    return output\n",
    "    # DO NOT EDIT CODE BELOW THIS POINT\n",
    "find_john()"
   ]
  },
  {
   "cell_type": "markdown",
   "metadata": {},
   "source": [
    "### Q4 Field Popularity\n",
    "\n",
    "Define the function `field_popularity()` below to return a list of the number of people employed in each `field`, sorted in ascending order by the number of people, then in ascending order by field."
   ]
  },
  {
   "cell_type": "code",
   "execution_count": 17,
   "metadata": {},
   "outputs": [
    {
     "data": {
      "text/plain": [
       "[(1, 'Engineering'), (1, 'Investments'), (2, 'HR'), (2, 'IT'), (2, 'Sales')]"
      ]
     },
     "execution_count": 17,
     "metadata": {},
     "output_type": "execute_result"
    }
   ],
   "source": [
    "def field_popularity():\n",
    "    con, cur = open_new_connection(\"database.db\")\n",
    "    cur.execute(\"\"\"\n",
    "        SELECT COUNT(*), field \n",
    "        FROM Careers \n",
    "        GROUP BY field \n",
    "        ORDER BY COUNT(*) ASC, field ASC\n",
    "    \"\"\")\n",
    "    output = cur.fetchall()\n",
    "    con.close()\n",
    "    return output\n",
    "field_popularity()"
   ]
  },
  {
   "cell_type": "markdown",
   "metadata": {},
   "source": [
    "### Q5 Max Salary titles\n",
    "Finish the function below to find the `Career` with the largest `Salary` for every `Field`.  Return a list of tuples containing:\n",
    "* `EmployeeID`, `FirstName`, and `LastName` of the `Employee` with the largest `Salary` in their `Field`.\n",
    "* The `Field` in question\n",
    "* The maximum `Salary` in that specific `Field`\n",
    "\n",
    "List also must be sorted in descending order based on `salary`."
   ]
  },
  {
   "cell_type": "code",
   "execution_count": 18,
   "metadata": {},
   "outputs": [
    {
     "data": {
      "text/plain": [
       "[(4, 'John', 'Cena', 'Sales', 100.01),\n",
       " (2, 'Rachel', 'Green', 'HR', 50.0),\n",
       " (3, 'Ross', 'Geller', 'IT', 49.99),\n",
       " (7, 'John', 'Watson', 'Investments', 39.0),\n",
       " (0, 'Harry', 'Truman', 'Engineering', 17.1)]"
      ]
     },
     "execution_count": 18,
     "metadata": {},
     "output_type": "execute_result"
    }
   ],
   "source": [
    "def max_salary_title():\n",
    "    con, cur = open_new_connection(\"database.db\")\n",
    "    cur.execute('''\n",
    "                SELECT a.EmployeeID, a.FirstName, a.LastName, b.Field, MAX(b.Salary)\n",
    "                FROM Employees AS a\n",
    "                INNER JOIN Careers AS b \n",
    "                ON a.EmployeeID=b.EmployeeID\n",
    "                GROUP BY b.Field\n",
    "                ORDER BY MAX(b.Salary) DESC\n",
    "                ''')\n",
    "    output = cur.fetchall()\n",
    "    con.close()\n",
    "    return output\n",
    "max_salary_title()"
   ]
  },
  {
   "cell_type": "markdown",
   "metadata": {},
   "source": [
    "Your boss provides you a `EmployeeBosses` table and asks you to combine it with the `Employees` table in a **Full Outer Join**. She wants you to create a **DataFrame** with the following columns:\n",
    "\n",
    "- Distinct `EmployeeIDs` from both the `Employees` and `EmployeeBoss` tables\n",
    "- `FirstName` from `Employees` if exists, else `NULL`.\n",
    "- `LastName` from `Employees` if exists, else `NULL`.\n",
    "- `BossFirstName` from `EmployeeBosses` if exists, else `NULL`.\n",
    "- `BossLastName` from `EmployeeBosses` if exists, else `NULL`.\n",
    "\n",
    "The `EmployeeBosses` table is composed of:\n",
    "\n",
    "- An `EmployeeID`: Integer, Primary Key\n",
    "- `BossFirstName`: String\n",
    "- `BossLastName`: String\n",
    "\n",
    "There may be some `EmployeeIDs` that only exist in `Employees` and some `EmployeeIDs` that only exist in `EmployeeBosses`.\n",
    "\n",
    "Table `EmployeeBosses`:\n",
    "\n",
    "|EmployeeID|BossFirstName|BossLastName|\n",
    "|----------|-------------|------------|\n",
    "|4         |Cant C.      |Mei         |\n",
    "|5         |Will         |Zeppeli     |\n",
    "|6         |Inspector    |Lestrade    |\n",
    "|7         |Sherlock     |Holmes      |\n",
    "|8         |Oski         |Bear        |\n",
    "|9         |John         |Hammond     |\n",
    "|10        |Richard      |Feynman     |\n",
    "|11        |George       |Lucas       |"
   ]
  },
  {
   "cell_type": "markdown",
   "metadata": {},
   "source": [
    "### Q6a Full Outer Join\n",
    "You realize from the lecture that SQLite doesn't support Full Outer Joins and relies on a [certain workaround](https://en.wikipedia.org/wiki/Join_%28SQL%29#Full_outer_join). Define a function to return the **STRING QUERY** of that workaround of the Full Outer Join stated above. The query must sort on `EmployeeID` in ascending order."
   ]
  },
  {
   "cell_type": "code",
   "execution_count": 19,
   "metadata": {},
   "outputs": [],
   "source": [
    "def full_outer_join():\n",
    "    return '''\n",
    "                SELECT a.EmployeeID, a.FirstName, a.LastName, b.BossFirstName, b.BossLastName\n",
    "                FROM Employees as a \n",
    "                LEFT JOIN EmployeeBosses as b \n",
    "                ON a.EmployeeId = b.EmployeeId\n",
    "                UNION ALL\n",
    "                SELECT a.EmployeeID, b.FirstName, b.LastName, a.BossFirstName, a.BossLastName\n",
    "                FROM EmployeeBosses as a\n",
    "                LEFT JOIN Employees as b\n",
    "                ON a.EmployeeId = b.EmployeeId\n",
    "                WHERE b.EmployeeId IS NULL\n",
    "                '''"
   ]
  },
  {
   "cell_type": "markdown",
   "metadata": {},
   "source": [
    "### Q6b Dataframe\n",
    "Using `pandas`, define the function `full_outer_join_df()` to create and return a `DataFrame` based on the SQL query that you wrote in Q6a."
   ]
  },
  {
   "cell_type": "code",
   "execution_count": 20,
   "metadata": {},
   "outputs": [
    {
     "data": {
      "text/html": [
       "<div>\n",
       "<style scoped>\n",
       "    .dataframe tbody tr th:only-of-type {\n",
       "        vertical-align: middle;\n",
       "    }\n",
       "\n",
       "    .dataframe tbody tr th {\n",
       "        vertical-align: top;\n",
       "    }\n",
       "\n",
       "    .dataframe thead th {\n",
       "        text-align: right;\n",
       "    }\n",
       "</style>\n",
       "<table border=\"1\" class=\"dataframe\">\n",
       "  <thead>\n",
       "    <tr style=\"text-align: right;\">\n",
       "      <th></th>\n",
       "      <th>EmployeeID</th>\n",
       "      <th>FirstName</th>\n",
       "      <th>LastName</th>\n",
       "      <th>BossFirstName</th>\n",
       "      <th>BossLastName</th>\n",
       "    </tr>\n",
       "  </thead>\n",
       "  <tbody>\n",
       "    <tr>\n",
       "      <th>0</th>\n",
       "      <td>0</td>\n",
       "      <td>Harry</td>\n",
       "      <td>Truman</td>\n",
       "      <td>None</td>\n",
       "      <td>None</td>\n",
       "    </tr>\n",
       "    <tr>\n",
       "      <th>1</th>\n",
       "      <td>1</td>\n",
       "      <td>John</td>\n",
       "      <td>Doe</td>\n",
       "      <td>None</td>\n",
       "      <td>None</td>\n",
       "    </tr>\n",
       "    <tr>\n",
       "      <th>2</th>\n",
       "      <td>2</td>\n",
       "      <td>Rachel</td>\n",
       "      <td>Green</td>\n",
       "      <td>None</td>\n",
       "      <td>None</td>\n",
       "    </tr>\n",
       "    <tr>\n",
       "      <th>3</th>\n",
       "      <td>3</td>\n",
       "      <td>Ross</td>\n",
       "      <td>Geller</td>\n",
       "      <td>None</td>\n",
       "      <td>None</td>\n",
       "    </tr>\n",
       "    <tr>\n",
       "      <th>4</th>\n",
       "      <td>4</td>\n",
       "      <td>John</td>\n",
       "      <td>Cena</td>\n",
       "      <td>Cant C.</td>\n",
       "      <td>Mei</td>\n",
       "    </tr>\n",
       "    <tr>\n",
       "      <th>5</th>\n",
       "      <td>5</td>\n",
       "      <td>Jonathan</td>\n",
       "      <td>Joestar</td>\n",
       "      <td>Will</td>\n",
       "      <td>Zeppeli</td>\n",
       "    </tr>\n",
       "    <tr>\n",
       "      <th>6</th>\n",
       "      <td>6</td>\n",
       "      <td>Sherlock</td>\n",
       "      <td>Holmes</td>\n",
       "      <td>Inspector</td>\n",
       "      <td>Lestrade</td>\n",
       "    </tr>\n",
       "    <tr>\n",
       "      <th>7</th>\n",
       "      <td>7</td>\n",
       "      <td>John</td>\n",
       "      <td>Watson</td>\n",
       "      <td>Sherlock</td>\n",
       "      <td>Holmes</td>\n",
       "    </tr>\n",
       "    <tr>\n",
       "      <th>8</th>\n",
       "      <td>8</td>\n",
       "      <td>None</td>\n",
       "      <td>None</td>\n",
       "      <td>Oski</td>\n",
       "      <td>Bear</td>\n",
       "    </tr>\n",
       "    <tr>\n",
       "      <th>9</th>\n",
       "      <td>9</td>\n",
       "      <td>None</td>\n",
       "      <td>None</td>\n",
       "      <td>John</td>\n",
       "      <td>Hammond</td>\n",
       "    </tr>\n",
       "    <tr>\n",
       "      <th>10</th>\n",
       "      <td>10</td>\n",
       "      <td>None</td>\n",
       "      <td>None</td>\n",
       "      <td>Richard</td>\n",
       "      <td>Feynman</td>\n",
       "    </tr>\n",
       "    <tr>\n",
       "      <th>11</th>\n",
       "      <td>11</td>\n",
       "      <td>None</td>\n",
       "      <td>None</td>\n",
       "      <td>George</td>\n",
       "      <td>Lucas</td>\n",
       "    </tr>\n",
       "  </tbody>\n",
       "</table>\n",
       "</div>"
      ],
      "text/plain": [
       "    EmployeeID FirstName LastName BossFirstName BossLastName\n",
       "0            0     Harry   Truman          None         None\n",
       "1            1      John      Doe          None         None\n",
       "2            2    Rachel    Green          None         None\n",
       "3            3      Ross   Geller          None         None\n",
       "4            4      John     Cena       Cant C.          Mei\n",
       "5            5  Jonathan  Joestar          Will      Zeppeli\n",
       "6            6  Sherlock   Holmes     Inspector     Lestrade\n",
       "7            7      John   Watson      Sherlock       Holmes\n",
       "8            8      None     None          Oski         Bear\n",
       "9            9      None     None          John      Hammond\n",
       "10          10      None     None       Richard      Feynman\n",
       "11          11      None     None        George        Lucas"
      ]
     },
     "execution_count": 20,
     "metadata": {},
     "output_type": "execute_result"
    }
   ],
   "source": [
    "def full_outer_join_df():\n",
    "    con = sqlite.connect('database.db')\n",
    "    return pd.read_sql(full_outer_join(), con)\n",
    "full_outer_join_df()"
   ]
  },
  {
   "cell_type": "markdown",
   "metadata": {},
   "source": [
    "## Submitting"
   ]
  },
  {
   "cell_type": "markdown",
   "metadata": {},
   "source": [
    "At this point, you may submit the Jupyter Notebook file `SQLLab.ipynb` directly to Gradescope under the assignment name INSERT ASSIGNMENT NAME HERE. **MAKE SURE ALL CELLS RUN CORRECTLY AND WITHOUT ERRORS, ELSE THE AUTOGRADER MAY NOT FUNCTION PROPERLY.**\n",
    "The autograder will be grading all the pre-questions as well as all the questions.\n",
    "\n",
    "Functions needed:\n",
    "\n",
    "- PQ1: `open_new_connection()`\n",
    "- PQ2: `hello_world()`\n",
    "- Q1: `create_table()`\n",
    "- Q2: `populate_table()`\n",
    "- Q3: `find_john()`\n",
    "- Q4: `field_popularity()`\n",
    "- Q5: `max_salary_title()`\n",
    "- Q6a: `full_outer_join()`\n",
    "- Q6b: `full_outer_join_df()`"
   ]
  }
 ],
 "metadata": {
  "kernelspec": {
   "display_name": "Python 3",
   "language": "python",
   "name": "python3"
  },
  "language_info": {
   "codemirror_mode": {
    "name": "ipython",
    "version": 3
   },
   "file_extension": ".py",
   "mimetype": "text/x-python",
   "name": "python",
   "nbconvert_exporter": "python",
   "pygments_lexer": "ipython3",
   "version": "3.6.8"
  }
 },
 "nbformat": 4,
 "nbformat_minor": 1
}
